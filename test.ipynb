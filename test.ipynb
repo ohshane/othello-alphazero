{
 "cells": [
  {
   "cell_type": "code",
   "execution_count": 19,
   "metadata": {},
   "outputs": [
    {
     "name": "stdout",
     "output_type": "stream",
     "text": [
      "0 0 0 0 0 0 0 0 \n",
      "0 0 0 0 0 0 0 0 \n",
      "0 0 0 0 0 0 0 0 \n",
      "0 0 0 2 1 0 0 0 \n",
      "0 0 0 1 2 0 0 0 \n",
      "0 0 0 0 0 0 0 0 \n",
      "0 0 0 0 0 0 0 0 \n",
      "0 0 0 0 0 0 0 0 \n"
     ]
    }
   ],
   "source": [
    "from misc import *\n",
    "\n",
    "places = [0]*(ROW*COL)\n",
    "places[COL*(ROW//2-1) + COL//2]     = places[COL*(ROW//2+1) - COL//2 - 1] = 1\n",
    "places[COL*(ROW//2-1) + COL//2 - 1] = places[COL*(ROW//2+1) - COL//2] = 2\n",
    "\n",
    "for i, p in enumerate(places, start=1):\n",
    "    print(p, end=' ')\n",
    "    if i%COL==0:\n",
    "        print()"
   ]
  }
 ],
 "metadata": {
  "interpreter": {
   "hash": "725833957740cd9dc5529e426296ebaf2d9f942e764438edb732236bc60c4823"
  },
  "kernelspec": {
   "display_name": "Python 3.9.10 64-bit ('base')",
   "language": "python",
   "name": "python3"
  },
  "language_info": {
   "codemirror_mode": {
    "name": "ipython",
    "version": 3
   },
   "file_extension": ".py",
   "mimetype": "text/x-python",
   "name": "python",
   "nbconvert_exporter": "python",
   "pygments_lexer": "ipython3",
   "version": "3.9.10"
  },
  "orig_nbformat": 4
 },
 "nbformat": 4,
 "nbformat_minor": 2
}
