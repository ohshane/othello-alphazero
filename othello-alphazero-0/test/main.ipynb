{
 "cells": [
  {
   "cell_type": "code",
   "execution_count": 74,
   "metadata": {},
   "outputs": [
    {
     "data": {
      "text/plain": [
       "[0, 0, 0, 0, 0, 1, 1, 0, 0, 1, 0, 0, 0, 0, 0, 0]"
      ]
     },
     "execution_count": 74,
     "metadata": {},
     "output_type": "execute_result"
    }
   ],
   "source": [
    "import numpy as np\n",
    "\n",
    "x = '''\n",
    "0000\n",
    "0110\n",
    "0100\n",
    "0000\n",
    "'''\n",
    "\n",
    "a = []\n",
    "x = [[int(c) for c in list(row)] for row in x.split()]\n",
    "x = np.array(x)\n",
    "x.flatten().tolist()"
   ]
  }
 ],
 "metadata": {
  "interpreter": {
   "hash": "725833957740cd9dc5529e426296ebaf2d9f942e764438edb732236bc60c4823"
  },
  "kernelspec": {
   "display_name": "Python 3.9.10 64-bit ('base')",
   "language": "python",
   "name": "python3"
  },
  "language_info": {
   "codemirror_mode": {
    "name": "ipython",
    "version": 3
   },
   "file_extension": ".py",
   "mimetype": "text/x-python",
   "name": "python",
   "nbconvert_exporter": "python",
   "pygments_lexer": "ipython3",
   "version": "3.9.10"
  },
  "orig_nbformat": 4
 },
 "nbformat": 4,
 "nbformat_minor": 2
}
